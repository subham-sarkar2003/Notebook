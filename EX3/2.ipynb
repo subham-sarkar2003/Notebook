{
 "cells": [
  {
   "cell_type": "code",
   "execution_count": 6,
   "metadata": {},
   "outputs": [
    {
     "name": "stdout",
     "output_type": "stream",
     "text": [
      "The dot product is  20\n",
      "13j\n",
      "(12-5j)\n",
      "[[0.54059835]\n",
      " [0.51877527]]\n",
      "[[[0.40207785 0.30568843]\n",
      "  [0.97127526 0.56747867]\n",
      "  [0.89325252 0.96513657]]\n",
      "\n",
      " [[0.86633252 0.63395338]\n",
      "  [0.33748207 0.71003297]\n",
      "  [0.2146625  0.66192101]]\n",
      "\n",
      " [[0.12674761 0.06141769]\n",
      "  [0.1749297  0.98765468]\n",
      "  [0.04760835 0.88808716]]]\n",
      "0.10154834245156263\n"
     ]
    }
   ],
   "source": [
    "# dot product \n",
    "\n",
    "import numpy as np\n",
    "\n",
    "product = np.dot(5,4)\n",
    "print(\"The dot product is \", product)\n",
    "\n",
    "vector_a=2+3j\n",
    "vector_b=3+2j\n",
    "\n",
    "product = np.dot(vector_a,vector_b)\n",
    "\n",
    "print(product)\n",
    "\n",
    "product1 = np.vdot(vector_a,vector_b)\n",
    "print(product1)\n",
    "\n",
    "# generaitng rando float value \n",
    "\n",
    "out_arr = np.random.ranf(size=(2,1))\n",
    "\n",
    "print(out_arr)\n",
    "\n",
    "out_arr1 = np.random.ranf((3,3,2))\n",
    "print(out_arr1)\n",
    "\n",
    "# using random sample \n",
    "\n",
    "def sample():\n",
    "\n",
    "    return  np.random.random_sample()\n",
    "\n",
    "print(sample())"
   ]
  }
 ],
 "metadata": {
  "kernelspec": {
   "display_name": "Python 3",
   "language": "python",
   "name": "python3"
  },
  "language_info": {
   "codemirror_mode": {
    "name": "ipython",
    "version": 3
   },
   "file_extension": ".py",
   "mimetype": "text/x-python",
   "name": "python",
   "nbconvert_exporter": "python",
   "pygments_lexer": "ipython3",
   "version": "3.12.0"
  }
 },
 "nbformat": 4,
 "nbformat_minor": 2
}
