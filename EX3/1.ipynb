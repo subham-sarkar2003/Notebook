{
 "cells": [
  {
   "cell_type": "code",
   "execution_count": 9,
   "metadata": {},
   "outputs": [
    {
     "name": "stdout",
     "output_type": "stream",
     "text": [
      "The new array is \n",
      "[[ 6  1  1]\n",
      " [ 4 -2  5]\n",
      " [ 2  8  7]]\n",
      "The rank of the matrix  3\n",
      "The trace of the matrix is  11\n",
      "The determinant of the matrix [[ 6  1  1]\n",
      " [ 4 -2  5]\n",
      " [ 2  8  7]] is   -306.0\n",
      "Inverse of the matrix [[ 6  1  1]\n",
      " [ 4 -2  5]\n",
      " [ 2  8  7]] is  [[ 0.17647059 -0.00326797 -0.02287582]\n",
      " [ 0.05882353 -0.13071895  0.08496732]\n",
      " [-0.11764706  0.1503268   0.05228758]]\n",
      "Matrix power of [[ 6  1  1]\n",
      " [ 4 -2  5]\n",
      " [ 2  8  7]]  [[336 162 228]\n",
      " [406 162 469]\n",
      " [698 702 905]]\n",
      "Array is \n",
      "[[ 1.+0.j -0.-2.j]\n",
      " [ 0.+2.j  5.+0.j]]\n",
      "eigen values is  [0.17157288 5.82842712]\n",
      "eigen values is  [[-0.92387953+0.j         -0.38268343+0.j        ]\n",
      " [ 0.        +0.38268343j  0.        -0.92387953j]]\n"
     ]
    }
   ],
   "source": [
    " import numpy as np\n",
    "\n",
    "A=np.array([[6, 1, 1],\n",
    "              [4, -2, 5],\n",
    "              [2, 8, 7]])\n",
    "\n",
    "print(\"The new array is \")\n",
    "print(A)\n",
    "\n",
    "# rank of matrix \n",
    "\n",
    "print(\"The rank of the matrix \", np.linalg.matrix_rank(A))\n",
    "\n",
    "# trace of the matrix \n",
    "\n",
    "print(\"The trace of the matrix is \", np.trace(A))\n",
    "# determinant \n",
    "\n",
    "print(f\"The determinant of the matrix {A} is  \", np.linalg.det(A))\n",
    "\n",
    "print(f\"Inverse of the matrix {A} is \", np.linalg.inv(A))\n",
    "\n",
    "print(f\"Matrix power of {A} \", np.linalg.matrix_power(A,3))\n",
    "\n",
    "# eigen values \n",
    "\n",
    "a = np.array([[1, -2j], [2j, 5]])\n",
    "\n",
    "print(\"Array is \")\n",
    "print(a)\n",
    "\n",
    "c,d  = np.linalg.eigh(a)\n",
    "print(\"eigen values is \", c)\n",
    "print(\"eigen values is \", d)\n"
   ]
  }
 ],
 "metadata": {
  "kernelspec": {
   "display_name": "Python 3",
   "language": "python",
   "name": "python3"
  },
  "language_info": {
   "codemirror_mode": {
    "name": "ipython",
    "version": 3
   },
   "file_extension": ".py",
   "mimetype": "text/x-python",
   "name": "python",
   "nbconvert_exporter": "python",
   "pygments_lexer": "ipython3",
   "version": "3.12.0"
  }
 },
 "nbformat": 4,
 "nbformat_minor": 2
}
