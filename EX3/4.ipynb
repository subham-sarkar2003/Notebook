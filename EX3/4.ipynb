{
 "cells": [
  {
   "cell_type": "code",
   "execution_count": 6,
   "metadata": {},
   "outputs": [
    {
     "name": "stdout",
     "output_type": "stream",
     "text": [
      "[[[2 3 6]\n",
      "  [1 4 1]]\n",
      "\n",
      " [[3 6 6]\n",
      "  [2 2 1]]]\n",
      "[0 2 1 1 1]\n",
      "[[1 0 2]\n",
      " [2 3 0]]\n",
      "[[[1 1 1 1 1 1 1 1 1 1]\n",
      "  [1 1 1 1 1 1 1 1 1 1]\n",
      "  [1 1 1 1 1 1 1 1 1 1]]\n",
      "\n",
      " [[1 1 1 1 1 1 1 1 1 1]\n",
      "  [1 1 1 1 1 1 1 1 1 1]\n",
      "  [1 1 1 1 1 1 1 1 1 1]]\n",
      "\n",
      " [[1 1 1 1 1 1 1 1 1 1]\n",
      "  [1 1 1 1 1 1 1 1 1 1]\n",
      "  [1 1 1 1 1 1 1 1 1 1]]\n",
      "\n",
      " [[1 1 1 1 1 1 1 1 1 1]\n",
      "  [1 1 1 1 1 1 1 1 1 1]\n",
      "  [1 1 1 1 1 1 1 1 1 1]]]\n"
     ]
    },
    {
     "name": "stderr",
     "output_type": "stream",
     "text": [
      "C:\\Users\\subha\\AppData\\Local\\Temp\\ipykernel_9572\\4197004291.py:5: DeprecationWarning: This function is deprecated. Please call randint(1, 6 + 1) instead\n",
      "  return np.random.random_integers(1,6,(2,2,3))\n"
     ]
    }
   ],
   "source": [
    "import numpy as np\n",
    "\n",
    "def swap():\n",
    "\n",
    "    return np.random.random_integers(1,6,(2,2,3))\n",
    "\n",
    "print(swap())\n",
    "\n",
    "# using randint \n",
    "\n",
    "def rand():\n",
    "\n",
    "    return np.random.randint(low=0,high=3,size=5)\n",
    "\n",
    "print(rand())\n",
    "\n",
    "arr = np.random.randint(low=4,size=(2,3))\n",
    "\n",
    "print(arr)\n",
    "\n",
    "def generate():\n",
    "\n",
    "    return np.random.randint(1,2,(4,3,10))\n",
    "\n",
    "print(generate())"
   ]
  }
 ],
 "metadata": {
  "kernelspec": {
   "display_name": "Python 3",
   "language": "python",
   "name": "python3"
  },
  "language_info": {
   "codemirror_mode": {
    "name": "ipython",
    "version": 3
   },
   "file_extension": ".py",
   "mimetype": "text/x-python",
   "name": "python",
   "nbconvert_exporter": "python",
   "pygments_lexer": "ipython3",
   "version": "3.12.0"
  }
 },
 "nbformat": 4,
 "nbformat_minor": 2
}
