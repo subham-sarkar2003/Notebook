{
 "cells": [
  {
   "cell_type": "code",
   "execution_count": 9,
   "metadata": {},
   "outputs": [
    {
     "name": "stdout",
     "output_type": "stream",
     "text": [
      "Random values are \n",
      "[[0.69952269 0.27796708 0.00159075]]\n",
      "[[[0.26477763]\n",
      "  [0.04403203]]\n",
      "\n",
      " [[0.8802894 ]\n",
      "  [0.46678563]]\n",
      "\n",
      " [[0.88959032]\n",
      "  [0.02030306]]]\n",
      "Random integers  [5 5 4 4]\n",
      "Integers are  [[3 2 3]\n",
      " [2 2 1]\n",
      " [2 3 2]]\n"
     ]
    },
    {
     "name": "stderr",
     "output_type": "stream",
     "text": [
      "C:\\Users\\subha\\AppData\\Local\\Temp\\ipykernel_10564\\4158192344.py:18: DeprecationWarning: This function is deprecated. Please call randint(0, 5 + 1) instead\n",
      "  our_array = np.random.random_integers(low=0,high=5,size=4)\n",
      "C:\\Users\\subha\\AppData\\Local\\Temp\\ipykernel_10564\\4158192344.py:24: DeprecationWarning: This function is deprecated. Please call randint(1, 3 + 1) instead\n",
      "  return np.random.random_integers(low=3,size=(3,3))\n"
     ]
    }
   ],
   "source": [
    "import numpy as np\n",
    "\n",
    "def generate():\n",
    "     \n",
    "     return  np.random.random_sample(size=(1,3))\n",
    "\n",
    "print(\"Random values are \")\n",
    "print(generate())\n",
    "\n",
    "def swap():\n",
    "     \n",
    "     return np.random.random_sample((3,2,1))\n",
    "\n",
    "print(swap())\n",
    "\n",
    "# random integer \n",
    "\n",
    "our_array = np.random.random_integers(low=0,high=5,size=4)\n",
    "\n",
    "print(\"Random integers \",our_array)\n",
    "\n",
    "def ofgenerate():\n",
    "     \n",
    "     return np.random.random_integers(low=3,size=(3,3))\n",
    "\n",
    "print(\"Integers are \",ofgenerate())"
   ]
  }
 ],
 "metadata": {
  "kernelspec": {
   "display_name": "Python 3",
   "language": "python",
   "name": "python3"
  },
  "language_info": {
   "codemirror_mode": {
    "name": "ipython",
    "version": 3
   },
   "file_extension": ".py",
   "mimetype": "text/x-python",
   "name": "python",
   "nbconvert_exporter": "python",
   "pygments_lexer": "ipython3",
   "version": "3.12.0"
  }
 },
 "nbformat": 4,
 "nbformat_minor": 2
}
