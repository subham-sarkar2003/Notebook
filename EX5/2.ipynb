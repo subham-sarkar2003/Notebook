{
 "cells": [
  {
   "cell_type": "code",
   "execution_count": 3,
   "metadata": {},
   "outputs": [
    {
     "name": "stdout",
     "output_type": "stream",
     "text": [
      "{'_id': ObjectId('6628a3b08174db349c0cda88'), 'name': 'Amy', 'address': 'Apple st 652'}\n",
      "{'_id': ObjectId('6628a3b08174db349c0cda89'), 'name': 'Hannah', 'address': 'Mountain 21'}\n",
      "{'_id': ObjectId('6628a3b08174db349c0cda8a'), 'name': 'Michael', 'address': 'Kolkata c/12'}\n",
      "{'_id': ObjectId('6628a3b08174db349c0cda8b'), 'name': 'Sandy', 'address': 'Ocean blvd 2'}\n",
      "{'_id': ObjectId('6628a3b08174db349c0cda8c'), 'name': 'Betty', 'address': 'Green Grass 1'}\n",
      "{'_id': ObjectId('6628a3b08174db349c0cda8d'), 'name': 'Richard', 'address': 'Sky st 331'}\n",
      "{'_id': ObjectId('6628a3b08174db349c0cda8e'), 'name': 'Susan', 'address': 'One way 98'}\n",
      "{'_id': ObjectId('6628a3b08174db349c0cda8f'), 'name': 'Vicky', 'address': 'Yellow Garden 2'}\n",
      "{'_id': ObjectId('6628a3b08174db349c0cda90'), 'name': 'Ben', 'address': 'Park Lane 38'}\n",
      "{'_id': ObjectId('6628a3b08174db349c0cda91'), 'name': 'William', 'address': 'Central st 954'}\n",
      "{'_id': ObjectId('6628a3b08174db349c0cda92'), 'name': 'Chuck', 'address': 'Main Road 989'}\n",
      "{'_id': ObjectId('6628a3b08174db349c0cda93'), 'name': 'Viola', 'address': 'Sideway 1633'}\n",
      "{'_id': ObjectId('6628a3c68174db349c0cda95'), 'name': 'Amy', 'address': 'Apple st 652'}\n",
      "{'_id': ObjectId('6628a3c68174db349c0cda96'), 'name': 'Hannah', 'address': 'Mountain 21'}\n",
      "{'_id': ObjectId('6628a3c68174db349c0cda97'), 'name': 'Michael', 'address': 'Valley 345'}\n",
      "{'_id': ObjectId('6628a3c68174db349c0cda98'), 'name': 'Sandy', 'address': 'Ocean blvd 2'}\n",
      "{'_id': ObjectId('6628a3c68174db349c0cda99'), 'name': 'Betty', 'address': 'Green Grass 1'}\n",
      "{'_id': ObjectId('6628a3c68174db349c0cda9a'), 'name': 'Richard', 'address': 'Sky st 331'}\n",
      "{'_id': ObjectId('6628a3c68174db349c0cda9b'), 'name': 'Susan', 'address': 'One way 98'}\n",
      "{'_id': ObjectId('6628a3c68174db349c0cda9c'), 'name': 'Vicky', 'address': 'Yellow Garden 2'}\n",
      "{'_id': ObjectId('6628a3c68174db349c0cda9d'), 'name': 'Ben', 'address': 'Park Lane 38'}\n",
      "{'_id': ObjectId('6628a3c68174db349c0cda9e'), 'name': 'William', 'address': 'Central st 954'}\n",
      "{'_id': ObjectId('6628a3c68174db349c0cda9f'), 'name': 'Chuck', 'address': 'Main Road 989'}\n",
      "{'_id': ObjectId('6628a3c68174db349c0cdaa0'), 'name': 'Viola', 'address': 'Sideway 1633'}\n"
     ]
    }
   ],
   "source": [
    "import pymongo\n",
    "\n",
    "myclient = pymongo.MongoClient(\"mongodb://localhost:27017/\")\n",
    "mydb = myclient[\"mydatabase\"]\n",
    "mycol = mydb[\"customers\"]\n",
    "\n",
    "\n",
    "mylist = [\n",
    "  { \"name\": \"Amy\", \"address\": \"Apple st 652\"},\n",
    "  { \"name\": \"Hannah\", \"address\": \"Mountain 21\"},\n",
    "  { \"name\": \"Michael\", \"address\": \"Valley 345\"},\n",
    "  { \"name\": \"Sandy\", \"address\": \"Ocean blvd 2\"},\n",
    "  { \"name\": \"Betty\", \"address\": \"Green Grass 1\"},\n",
    "  { \"name\": \"Richard\", \"address\": \"Sky st 331\"},\n",
    "  { \"name\": \"Susan\", \"address\": \"One way 98\"},\n",
    "  { \"name\": \"Vicky\", \"address\": \"Yellow Garden 2\"},\n",
    "  { \"name\": \"Ben\", \"address\": \"Park Lane 38\"},\n",
    "  { \"name\": \"William\", \"address\": \"Central st 954\"},\n",
    "  { \"name\": \"Chuck\", \"address\": \"Main Road 989\"},\n",
    "  { \"name\": \"Viola\", \"address\": \"Sideway 1633\"}\n",
    "]\n",
    "\n",
    "mycol.insert_many(mylist)\n",
    "\n",
    "myquery = {\"address\":\"Valley 345\"}\n",
    "newval = {\"$set\":{\"address\":\"Kolkata c/12\"}}\n",
    "\n",
    "mycol.update_one(myquery,newval)\n",
    "\n",
    "for x in mycol.find():\n",
    "\n",
    "    print(x)"
   ]
  },
  {
   "cell_type": "code",
   "execution_count": 5,
   "metadata": {},
   "outputs": [
    {
     "name": "stdout",
     "output_type": "stream",
     "text": [
      "{'_id': ObjectId('6628a3b08174db349c0cda88'), 'name': 'Amy', 'address': 'Apple st 652'}\n",
      "{'_id': ObjectId('6628a3b08174db349c0cda89'), 'name': 'Hannah', 'address': 'Mountain 21'}\n",
      "{'_id': ObjectId('6628a3b08174db349c0cda8a'), 'name': 'Michael', 'address': 'Kolkata c/12'}\n",
      "{'_id': ObjectId('6628a3b08174db349c0cda8b'), 'name': 'Sandy', 'address': 'Ocean blvd 2'}\n",
      "{'_id': ObjectId('6628a3b08174db349c0cda8c'), 'name': 'Betty', 'address': 'Green Grass 1'}\n",
      "{'_id': ObjectId('6628a3b08174db349c0cda8d'), 'name': 'Richard', 'address': 'Kolkata'}\n",
      "{'_id': ObjectId('6628a3b08174db349c0cda8e'), 'name': 'Susan', 'address': 'One way 98'}\n",
      "{'_id': ObjectId('6628a3b08174db349c0cda8f'), 'name': 'Vicky', 'address': 'Yellow Garden 2'}\n",
      "{'_id': ObjectId('6628a3b08174db349c0cda90'), 'name': 'Ben', 'address': 'Park Lane 38'}\n",
      "{'_id': ObjectId('6628a3b08174db349c0cda91'), 'name': 'William', 'address': 'Central st 954'}\n",
      "{'_id': ObjectId('6628a3b08174db349c0cda92'), 'name': 'Chuck', 'address': 'Main Road 989'}\n",
      "{'_id': ObjectId('6628a3b08174db349c0cda93'), 'name': 'Viola', 'address': 'Kolkata'}\n",
      "{'_id': ObjectId('6628a3c68174db349c0cda95'), 'name': 'Amy', 'address': 'Apple st 652'}\n",
      "{'_id': ObjectId('6628a3c68174db349c0cda96'), 'name': 'Hannah', 'address': 'Mountain 21'}\n",
      "{'_id': ObjectId('6628a3c68174db349c0cda97'), 'name': 'Michael', 'address': 'Valley 345'}\n",
      "{'_id': ObjectId('6628a3c68174db349c0cda98'), 'name': 'Sandy', 'address': 'Ocean blvd 2'}\n",
      "{'_id': ObjectId('6628a3c68174db349c0cda99'), 'name': 'Betty', 'address': 'Green Grass 1'}\n",
      "{'_id': ObjectId('6628a3c68174db349c0cda9a'), 'name': 'Richard', 'address': 'Kolkata'}\n",
      "{'_id': ObjectId('6628a3c68174db349c0cda9b'), 'name': 'Susan', 'address': 'One way 98'}\n",
      "{'_id': ObjectId('6628a3c68174db349c0cda9c'), 'name': 'Vicky', 'address': 'Yellow Garden 2'}\n",
      "{'_id': ObjectId('6628a3c68174db349c0cda9d'), 'name': 'Ben', 'address': 'Park Lane 38'}\n",
      "{'_id': ObjectId('6628a3c68174db349c0cda9e'), 'name': 'William', 'address': 'Central st 954'}\n",
      "{'_id': ObjectId('6628a3c68174db349c0cda9f'), 'name': 'Chuck', 'address': 'Main Road 989'}\n",
      "{'_id': ObjectId('6628a3c68174db349c0cdaa0'), 'name': 'Viola', 'address': 'Kolkata'}\n"
     ]
    }
   ],
   "source": [
    "import pymongo\n",
    "\n",
    "myclient = pymongo.MongoClient(\"mongodb://localhost:27017/\")\n",
    "mydb = myclient[\"mydatabase\"]\n",
    "mycol = mydb[\"customers\"]\n",
    "\n",
    "myquery = {\"address\":{\"$regex\":\"^S\"}}\n",
    "\n",
    "newval = {\"$set\":{\"address\":\"Kolkata\"}}\n",
    "\n",
    "mycol.update_many(myquery,newval)\n",
    "\n",
    "for x in mycol.find():\n",
    "\n",
    "    print(x)"
   ]
  },
  {
   "cell_type": "code",
   "execution_count": 6,
   "metadata": {},
   "outputs": [
    {
     "name": "stdout",
     "output_type": "stream",
     "text": [
      "{'_id': ObjectId('6628a3b08174db349c0cda88'), 'name': 'Amy', 'address': 'Apple st 652'}\n",
      "{'_id': ObjectId('6628a3b08174db349c0cda89'), 'name': 'Hannah', 'address': 'Mountain 21'}\n",
      "{'_id': ObjectId('6628a3b08174db349c0cda8a'), 'name': 'Michael', 'address': 'Kolkata c/12'}\n",
      "{'_id': ObjectId('6628a3b08174db349c0cda8b'), 'name': 'Sandy', 'address': 'Ocean blvd 2'}\n",
      "{'_id': ObjectId('6628a3b08174db349c0cda8c'), 'name': 'Betty', 'address': 'Green Grass 1'}\n"
     ]
    }
   ],
   "source": [
    "import pymongo \n",
    "\n",
    "myclient = pymongo.MongoClient(\"mongodb://localhost:27017/\")\n",
    "mydb = myclient[\"mydatabase\"]\n",
    "mycol = mydb[\"customers\"]\n",
    "\n",
    "# use case of limit to return as much user needed \n",
    "myresult =  mycol.find().limit(5);\n",
    "\n",
    "for x in myresult:\n",
    "\n",
    "    print(x)"
   ]
  }
 ],
 "metadata": {
  "kernelspec": {
   "display_name": "Python 3",
   "language": "python",
   "name": "python3"
  },
  "language_info": {
   "codemirror_mode": {
    "name": "ipython",
    "version": 3
   },
   "file_extension": ".py",
   "mimetype": "text/x-python",
   "name": "python",
   "nbconvert_exporter": "python",
   "pygments_lexer": "ipython3",
   "version": "3.12.0"
  }
 },
 "nbformat": 4,
 "nbformat_minor": 2
}
