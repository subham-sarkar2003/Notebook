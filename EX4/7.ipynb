{
 "cells": [
  {
   "cell_type": "code",
   "execution_count": 1,
   "metadata": {},
   "outputs": [
    {
     "name": "stdout",
     "output_type": "stream",
     "text": [
      "{'_id': ObjectId('6627fb3fb6c9524373867fc0'), 'name': 'Michael', 'address': 'Valley 345'}\n",
      "{'_id': ObjectId('6627fb3fb6c9524373867fc3'), 'name': 'Richard', 'address': 'Sky st 331'}\n",
      "{'_id': ObjectId('6627fb3fb6c9524373867fc5'), 'name': 'Vicky', 'address': 'Yellow Garden 2'}\n",
      "{'_id': ObjectId('6627fb3fb6c9524373867fc9'), 'name': 'Viola', 'address': 'Sideway 1633'}\n"
     ]
    }
   ],
   "source": [
    "import  pymongo \n",
    "\n",
    "myclient  = pymongo.MongoClient(\"mongodb://localhost:27017/\")\n",
    "mydb =  myclient[\"mydatabase\"]\n",
    "\n",
    "mycol = mydb[\"customers\"]\n",
    "\n",
    "# finding documnets where address starts with letter s or higher \n",
    "\n",
    "myquery = {\"address\":{\"$gt\":\"S\"}}\n",
    "\n",
    "mydoc = mycol.find(myquery)\n",
    "\n",
    "for x in mydoc:\n",
    "\n",
    "    print(x)"
   ]
  },
  {
   "cell_type": "code",
   "execution_count": 3,
   "metadata": {},
   "outputs": [
    {
     "name": "stdout",
     "output_type": "stream",
     "text": [
      "{'_id': ObjectId('6627f922551f8c00d34e0993'), 'name': 'Subham', 'address': 'Kolkata'}\n",
      "{'_id': ObjectId('6627f945551f8c00d34e0995'), 'name': 'Subham', 'address': 'Kolkata'}\n",
      "{'_id': ObjectId('6627f94f551f8c00d34e0997'), 'name': 'Subham', 'address': 'Kolkata'}\n",
      "{'_id': ObjectId('6627f960551f8c00d34e0999'), 'name': 'Subham', 'address': 'Kolkata'}\n",
      "{'_id': ObjectId('6627f9b0551f8c00d34e099b'), 'name': 'Subham', 'address': 'Kolkata'}\n",
      "{'_id': ObjectId('6627f9df551f8c00d34e099d'), 'name': 'Subham', 'address': 'Kolkata'}\n"
     ]
    }
   ],
   "source": [
    "import pymongo \n",
    "\n",
    "myclient  = pymongo.MongoClient(\"mongodb://localhost:27017/\")\n",
    "mydb =  myclient[\"mydatabase\"]\n",
    "\n",
    "mycol = mydb[\"customers\"]\n",
    "\n",
    "# finding documnets where address only starts with letter s \n",
    "\n",
    "myquery = {\"address\":{\"$regex\":\"^K\"}}\n",
    "\n",
    "mydoc = mycol.find(myquery)\n",
    "\n",
    "for x in mydoc:\n",
    "\n",
    "    print(x)"
   ]
  }
 ],
 "metadata": {
  "kernelspec": {
   "display_name": "Python 3",
   "language": "python",
   "name": "python3"
  },
  "language_info": {
   "codemirror_mode": {
    "name": "ipython",
    "version": 3
   },
   "file_extension": ".py",
   "mimetype": "text/x-python",
   "name": "python",
   "nbconvert_exporter": "python",
   "pygments_lexer": "ipython3",
   "version": "3.12.0"
  }
 },
 "nbformat": 4,
 "nbformat_minor": 2
}
