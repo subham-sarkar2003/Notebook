{
 "cells": [
  {
   "cell_type": "code",
   "execution_count": 14,
   "metadata": {},
   "outputs": [
    {
     "name": "stdout",
     "output_type": "stream",
     "text": [
      "[]\n"
     ]
    }
   ],
   "source": [
    "import pymongo\n",
    "\n",
    "myclient  = pymongo.MongoClient(\"mongodb://localhost:27017/\")\n",
    "\n",
    "mydb = myclient[\"mydatabase\"]\n",
    "\n",
    "mycol = mydb[\"customers\"]\n",
    "\n",
    "\n",
    "print(mydb.list_collection_names())\n",
    "\n",
    "collist = mydb.list_collection_names()\n",
    "\n",
    "if \"customers\" in collist:\n",
    "\n",
    "    print(\"Data is presnt \")"
   ]
  },
  {
   "cell_type": "code",
   "execution_count": 20,
   "metadata": {},
   "outputs": [
    {
     "name": "stdout",
     "output_type": "stream",
     "text": [
      "6627f9df551f8c00d34e099d\n",
      "6627f9df551f8c00d34e099e\n"
     ]
    }
   ],
   "source": [
    "import pymongo \n",
    "\n",
    "myclient  = pymongo.MongoClient(\"mongodb://localhost:27017/\")\n",
    "\n",
    "mydb = myclient[\"mydatabase\"]\n",
    "\n",
    "mycol =  mydb[\"customers\"]\n",
    "\n",
    "mydict ={\"name\":\"Subham\", \"address\":\"Kolkata\"}\n",
    "\n",
    "x= mycol.insert_one(mydict)\n",
    "\n",
    "print(x.inserted_id)\n",
    "\n",
    "mydict1={\"name\":\"Shreysoshi\",\"age\":20}\n",
    "\n",
    "x=mycol.insert_one(mydict1)\n",
    "\n",
    "print(x.inserted_id)"
   ]
  }
 ],
 "metadata": {
  "kernelspec": {
   "display_name": "Python 3",
   "language": "python",
   "name": "python3"
  },
  "language_info": {
   "codemirror_mode": {
    "name": "ipython",
    "version": 3
   },
   "file_extension": ".py",
   "mimetype": "text/x-python",
   "name": "python",
   "nbconvert_exporter": "python",
   "pygments_lexer": "ipython3",
   "version": "3.12.0"
  }
 },
 "nbformat": 4,
 "nbformat_minor": 2
}
