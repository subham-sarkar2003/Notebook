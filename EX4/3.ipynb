{
 "cells": [
  {
   "cell_type": "code",
   "execution_count": 5,
   "metadata": {},
   "outputs": [
    {
     "name": "stdout",
     "output_type": "stream",
     "text": [
      "[300, 300, 400, 500, 300]\n"
     ]
    }
   ],
   "source": [
    "import random\n",
    "\n",
    "sampleList  = [100,200,300,400,500]\n",
    "\n",
    "weighted_list =random.choices(sampleList,weights=(10,20,30,40,50),k=5)\n",
    "\n",
    "print(weighted_list)"
   ]
  },
  {
   "cell_type": "code",
   "execution_count": 6,
   "metadata": {},
   "outputs": [
    {
     "name": "stdout",
     "output_type": "stream",
     "text": [
      "[400, 200, 400, 300, 400]\n"
     ]
    }
   ],
   "source": [
    "import random\n",
    "\n",
    "smaplelist  = [100,200,300,400,500]\n",
    "\n",
    "list = random.choices(  smaplelist,cum_weights=(10,20,30,40,50), k=5)\n",
    "\n",
    "print(list)"
   ]
  },
  {
   "cell_type": "code",
   "execution_count": 9,
   "metadata": {},
   "outputs": [
    {
     "name": "stdout",
     "output_type": "stream",
     "text": [
      "Before shuffle  [0 1 2 3 4 5 6 7 8 9]\n",
      "After shuffle \n",
      "[2 8 5 7 1 6 4 9 3 0]\n"
     ]
    }
   ],
   "source": [
    "import numpy as np \n",
    "\n",
    "gfg = np.arange(10)\n",
    "\n",
    "print(\"Before shuffle \", gfg)\n",
    "\n",
    "print(\"After shuffle \")\n",
    "\n",
    "np.random.shuffle(gfg)\n",
    "\n",
    "print(gfg)\n",
    "\n"
   ]
  },
  {
   "cell_type": "code",
   "execution_count": 11,
   "metadata": {},
   "outputs": [
    {
     "name": "stdout",
     "output_type": "stream",
     "text": [
      "[[ 0  1  2  3]\n",
      " [ 4  5  6  7]\n",
      " [ 8  9 10 11]]\n",
      "After reshaping\n",
      "[[ 8  9 10 11]\n",
      " [ 4  5  6  7]\n",
      " [ 0  1  2  3]]\n"
     ]
    }
   ],
   "source": [
    "import numpy as np\n",
    "\n",
    "gfg = np.arange(12).reshape(3,4)\n",
    "\n",
    "print(gfg)\n",
    "\n",
    "print(\"After reshaping\")\n",
    "np.random.shuffle(gfg)\n",
    "\n",
    "print(gfg)"
   ]
  }
 ],
 "metadata": {
  "kernelspec": {
   "display_name": "Python 3",
   "language": "python",
   "name": "python3"
  },
  "language_info": {
   "codemirror_mode": {
    "name": "ipython",
    "version": 3
   },
   "file_extension": ".py",
   "mimetype": "text/x-python",
   "name": "python",
   "nbconvert_exporter": "python",
   "pygments_lexer": "ipython3",
   "version": "3.12.0"
  }
 },
 "nbformat": 4,
 "nbformat_minor": 2
}
