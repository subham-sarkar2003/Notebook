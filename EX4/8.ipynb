{
 "cells": [
  {
   "cell_type": "code",
   "execution_count": 1,
   "metadata": {},
   "outputs": [
    {
     "name": "stdout",
     "output_type": "stream",
     "text": [
      "{'_id': ObjectId('6627fb3fb6c9524373867fbe'), 'name': 'Amy', 'address': 'Apple st 652'}\n",
      "{'_id': ObjectId('6627fb3fb6c9524373867fc6'), 'name': 'Ben', 'address': 'Park Lane 38'}\n",
      "{'_id': ObjectId('6627fb3fb6c9524373867fc2'), 'name': 'Betty', 'address': 'Green Grass 1'}\n",
      "{'_id': ObjectId('6627fb3fb6c9524373867fc8'), 'name': 'Chuck', 'address': 'Main Road 989'}\n",
      "{'_id': ObjectId('6627fb3fb6c9524373867fbf'), 'name': 'Hannah', 'address': 'Mountain 21'}\n",
      "{'_id': ObjectId('6627fb3fb6c9524373867fc0'), 'name': 'Michael', 'address': 'Valley 345'}\n",
      "{'_id': ObjectId('6627fb3fb6c9524373867fc3'), 'name': 'Richard', 'address': 'Sky st 331'}\n",
      "{'_id': ObjectId('6627fb3fb6c9524373867fc1'), 'name': 'Sandy', 'address': 'Ocean blvd 2'}\n",
      "{'_id': ObjectId('6627f9df551f8c00d34e099e'), 'name': 'Shreysoshi', 'age': 20}\n",
      "{'_id': ObjectId('6627f922551f8c00d34e0993'), 'name': 'Subham', 'address': 'Kolkata'}\n",
      "{'_id': ObjectId('6627f945551f8c00d34e0995'), 'name': 'Subham', 'address': 'Kolkata'}\n",
      "{'_id': ObjectId('6627f94f551f8c00d34e0997'), 'name': 'Subham', 'address': 'Kolkata'}\n",
      "{'_id': ObjectId('6627f960551f8c00d34e0999'), 'name': 'Subham', 'address': 'Kolkata'}\n",
      "{'_id': ObjectId('6627f9b0551f8c00d34e099b'), 'name': 'Subham', 'address': 'Kolkata'}\n",
      "{'_id': ObjectId('6627f9df551f8c00d34e099d'), 'name': 'Subham', 'address': 'Kolkata'}\n",
      "{'_id': ObjectId('6627fb3fb6c9524373867fc4'), 'name': 'Susan', 'address': 'One way 98'}\n",
      "{'_id': ObjectId('6627fb3fb6c9524373867fc5'), 'name': 'Vicky', 'address': 'Yellow Garden 2'}\n",
      "{'_id': ObjectId('6627fb3fb6c9524373867fc9'), 'name': 'Viola', 'address': 'Sideway 1633'}\n",
      "{'_id': ObjectId('6627fb3fb6c9524373867fc7'), 'name': 'William', 'address': 'Central st 954'}\n"
     ]
    }
   ],
   "source": [
    "import pymongo\n",
    "\n",
    "myclient  = pymongo.MongoClient(\"mongodb://localhost:27017/\")\n",
    "mydb =  myclient[\"mydatabase\"]\n",
    "\n",
    "mycol = mydb[\"customers\"]\n",
    "\n",
    "# sorting in mongodb by name in ascending order \n",
    "\n",
    "mydoc = mycol.find().sort(\"name\")\n",
    "\n",
    "for x in mydoc:\n",
    "\n",
    "    print(x)\n"
   ]
  },
  {
   "cell_type": "code",
   "execution_count": 2,
   "metadata": {},
   "outputs": [
    {
     "name": "stdout",
     "output_type": "stream",
     "text": [
      "{'_id': ObjectId('6627fb3fb6c9524373867fc7'), 'name': 'William', 'address': 'Central st 954'}\n",
      "{'_id': ObjectId('6627fb3fb6c9524373867fc9'), 'name': 'Viola', 'address': 'Sideway 1633'}\n",
      "{'_id': ObjectId('6627fb3fb6c9524373867fc5'), 'name': 'Vicky', 'address': 'Yellow Garden 2'}\n",
      "{'_id': ObjectId('6627fb3fb6c9524373867fc4'), 'name': 'Susan', 'address': 'One way 98'}\n",
      "{'_id': ObjectId('6627f922551f8c00d34e0993'), 'name': 'Subham', 'address': 'Kolkata'}\n",
      "{'_id': ObjectId('6627f945551f8c00d34e0995'), 'name': 'Subham', 'address': 'Kolkata'}\n",
      "{'_id': ObjectId('6627f94f551f8c00d34e0997'), 'name': 'Subham', 'address': 'Kolkata'}\n",
      "{'_id': ObjectId('6627f960551f8c00d34e0999'), 'name': 'Subham', 'address': 'Kolkata'}\n",
      "{'_id': ObjectId('6627f9b0551f8c00d34e099b'), 'name': 'Subham', 'address': 'Kolkata'}\n",
      "{'_id': ObjectId('6627f9df551f8c00d34e099d'), 'name': 'Subham', 'address': 'Kolkata'}\n",
      "{'_id': ObjectId('6627f9df551f8c00d34e099e'), 'name': 'Shreysoshi', 'age': 20}\n",
      "{'_id': ObjectId('6627fb3fb6c9524373867fc1'), 'name': 'Sandy', 'address': 'Ocean blvd 2'}\n",
      "{'_id': ObjectId('6627fb3fb6c9524373867fc3'), 'name': 'Richard', 'address': 'Sky st 331'}\n",
      "{'_id': ObjectId('6627fb3fb6c9524373867fc0'), 'name': 'Michael', 'address': 'Valley 345'}\n",
      "{'_id': ObjectId('6627fb3fb6c9524373867fbf'), 'name': 'Hannah', 'address': 'Mountain 21'}\n",
      "{'_id': ObjectId('6627fb3fb6c9524373867fc8'), 'name': 'Chuck', 'address': 'Main Road 989'}\n",
      "{'_id': ObjectId('6627fb3fb6c9524373867fc2'), 'name': 'Betty', 'address': 'Green Grass 1'}\n",
      "{'_id': ObjectId('6627fb3fb6c9524373867fc6'), 'name': 'Ben', 'address': 'Park Lane 38'}\n",
      "{'_id': ObjectId('6627fb3fb6c9524373867fbe'), 'name': 'Amy', 'address': 'Apple st 652'}\n"
     ]
    }
   ],
   "source": [
    "import pymongo\n",
    "\n",
    "myclient  = pymongo.MongoClient(\"mongodb://localhost:27017/\")\n",
    "mydb =  myclient[\"mydatabase\"]\n",
    "\n",
    "mycol = mydb[\"customers\"]\n",
    "\n",
    "# sorting name in descending order\n",
    "\n",
    "mydoc = mycol.find().sort(\"name\",-1)\n",
    "\n",
    "for x in mydoc:\n",
    "     \n",
    "     print(x)"
   ]
  }
 ],
 "metadata": {
  "kernelspec": {
   "display_name": "Python 3",
   "language": "python",
   "name": "python3"
  },
  "language_info": {
   "codemirror_mode": {
    "name": "ipython",
    "version": 3
   },
   "file_extension": ".py",
   "mimetype": "text/x-python",
   "name": "python",
   "nbconvert_exporter": "python",
   "pygments_lexer": "ipython3",
   "version": "3.12.0"
  }
 },
 "nbformat": 4,
 "nbformat_minor": 2
}
