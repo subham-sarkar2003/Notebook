{
 "cells": [
  {
   "cell_type": "code",
   "execution_count": 1,
   "metadata": {},
   "outputs": [
    {
     "name": "stdout",
     "output_type": "stream",
     "text": [
      "[ObjectId('6627fb3fb6c9524373867fbe'), ObjectId('6627fb3fb6c9524373867fbf'), ObjectId('6627fb3fb6c9524373867fc0'), ObjectId('6627fb3fb6c9524373867fc1'), ObjectId('6627fb3fb6c9524373867fc2'), ObjectId('6627fb3fb6c9524373867fc3'), ObjectId('6627fb3fb6c9524373867fc4'), ObjectId('6627fb3fb6c9524373867fc5'), ObjectId('6627fb3fb6c9524373867fc6'), ObjectId('6627fb3fb6c9524373867fc7'), ObjectId('6627fb3fb6c9524373867fc8'), ObjectId('6627fb3fb6c9524373867fc9')]\n"
     ]
    }
   ],
   "source": [
    "import pymongo \n",
    "\n",
    "myclient  = pymongo.MongoClient(\"mongodb://localhost:27017/\")\n",
    "mydb =  myclient[\"mydatabase\"]\n",
    "\n",
    "mycol = mydb[\"customers\"]\n",
    "\n",
    "mylist = [\n",
    "  { \"name\": \"Amy\", \"address\": \"Apple st 652\"},\n",
    "  { \"name\": \"Hannah\", \"address\": \"Mountain 21\"},\n",
    "  { \"name\": \"Michael\", \"address\": \"Valley 345\"},\n",
    "  { \"name\": \"Sandy\", \"address\": \"Ocean blvd 2\"},\n",
    "  { \"name\": \"Betty\", \"address\": \"Green Grass 1\"},\n",
    "  { \"name\": \"Richard\", \"address\": \"Sky st 331\"},\n",
    "  { \"name\": \"Susan\", \"address\": \"One way 98\"},\n",
    "  { \"name\": \"Vicky\", \"address\": \"Yellow Garden 2\"},\n",
    "  { \"name\": \"Ben\", \"address\": \"Park Lane 38\"},\n",
    "  { \"name\": \"William\", \"address\": \"Central st 954\"},\n",
    "  { \"name\": \"Chuck\", \"address\": \"Main Road 989\"},\n",
    "  { \"name\": \"Viola\", \"address\": \"Sideway 1633\"}\n",
    "]\n",
    "\n",
    "x= mycol.insert_many(mylist)\n",
    "\n",
    "print(x.inserted_ids)"
   ]
  },
  {
   "cell_type": "code",
   "execution_count": 3,
   "metadata": {},
   "outputs": [
    {
     "name": "stdout",
     "output_type": "stream",
     "text": [
      "{'_id': ObjectId('6627f922551f8c00d34e0993'), 'name': 'Subham', 'address': 'Kolkata'}\n",
      "{'_id': ObjectId('6627f922551f8c00d34e0993'), 'name': 'Subham', 'address': 'Kolkata'}\n",
      "{'_id': ObjectId('6627f945551f8c00d34e0995'), 'name': 'Subham', 'address': 'Kolkata'}\n",
      "{'_id': ObjectId('6627f94f551f8c00d34e0997'), 'name': 'Subham', 'address': 'Kolkata'}\n",
      "{'_id': ObjectId('6627f960551f8c00d34e0999'), 'name': 'Subham', 'address': 'Kolkata'}\n",
      "{'_id': ObjectId('6627f9b0551f8c00d34e099b'), 'name': 'Subham', 'address': 'Kolkata'}\n",
      "{'_id': ObjectId('6627f9df551f8c00d34e099d'), 'name': 'Subham', 'address': 'Kolkata'}\n",
      "{'_id': ObjectId('6627f9df551f8c00d34e099e'), 'name': 'Shreysoshi', 'age': 20}\n",
      "{'_id': ObjectId('6627fb3fb6c9524373867fbe'), 'name': 'Amy', 'address': 'Apple st 652'}\n",
      "{'_id': ObjectId('6627fb3fb6c9524373867fbf'), 'name': 'Hannah', 'address': 'Mountain 21'}\n",
      "{'_id': ObjectId('6627fb3fb6c9524373867fc0'), 'name': 'Michael', 'address': 'Valley 345'}\n",
      "{'_id': ObjectId('6627fb3fb6c9524373867fc1'), 'name': 'Sandy', 'address': 'Ocean blvd 2'}\n",
      "{'_id': ObjectId('6627fb3fb6c9524373867fc2'), 'name': 'Betty', 'address': 'Green Grass 1'}\n",
      "{'_id': ObjectId('6627fb3fb6c9524373867fc3'), 'name': 'Richard', 'address': 'Sky st 331'}\n",
      "{'_id': ObjectId('6627fb3fb6c9524373867fc4'), 'name': 'Susan', 'address': 'One way 98'}\n",
      "{'_id': ObjectId('6627fb3fb6c9524373867fc5'), 'name': 'Vicky', 'address': 'Yellow Garden 2'}\n",
      "{'_id': ObjectId('6627fb3fb6c9524373867fc6'), 'name': 'Ben', 'address': 'Park Lane 38'}\n",
      "{'_id': ObjectId('6627fb3fb6c9524373867fc7'), 'name': 'William', 'address': 'Central st 954'}\n",
      "{'_id': ObjectId('6627fb3fb6c9524373867fc8'), 'name': 'Chuck', 'address': 'Main Road 989'}\n",
      "{'_id': ObjectId('6627fb3fb6c9524373867fc9'), 'name': 'Viola', 'address': 'Sideway 1633'}\n"
     ]
    }
   ],
   "source": [
    "import pymongo\n",
    "\n",
    "myclient  = pymongo.MongoClient(\"mongodb://localhost:27017/\")\n",
    "mydb =  myclient[\"mydatabase\"]\n",
    "\n",
    "mycol = mydb[\"customers\"]\n",
    "\n",
    "x= mycol.find_one()\n",
    "\n",
    "print(x)\n",
    "\n",
    "for x in mycol.find():\n",
    "\n",
    "    print(x)"
   ]
  },
  {
   "cell_type": "code",
   "execution_count": 4,
   "metadata": {},
   "outputs": [
    {
     "name": "stdout",
     "output_type": "stream",
     "text": [
      "{'_id': ObjectId('6627f922551f8c00d34e0993'), 'name': 'Subham'}\n",
      "{'_id': ObjectId('6627f945551f8c00d34e0995'), 'name': 'Subham'}\n",
      "{'_id': ObjectId('6627f94f551f8c00d34e0997'), 'name': 'Subham'}\n",
      "{'_id': ObjectId('6627f960551f8c00d34e0999'), 'name': 'Subham'}\n",
      "{'_id': ObjectId('6627f9b0551f8c00d34e099b'), 'name': 'Subham'}\n",
      "{'_id': ObjectId('6627f9df551f8c00d34e099d'), 'name': 'Subham'}\n",
      "{'_id': ObjectId('6627f9df551f8c00d34e099e'), 'name': 'Shreysoshi', 'age': 20}\n",
      "{'_id': ObjectId('6627fb3fb6c9524373867fbe'), 'name': 'Amy'}\n",
      "{'_id': ObjectId('6627fb3fb6c9524373867fbf'), 'name': 'Hannah'}\n",
      "{'_id': ObjectId('6627fb3fb6c9524373867fc0'), 'name': 'Michael'}\n",
      "{'_id': ObjectId('6627fb3fb6c9524373867fc1'), 'name': 'Sandy'}\n",
      "{'_id': ObjectId('6627fb3fb6c9524373867fc2'), 'name': 'Betty'}\n",
      "{'_id': ObjectId('6627fb3fb6c9524373867fc3'), 'name': 'Richard'}\n",
      "{'_id': ObjectId('6627fb3fb6c9524373867fc4'), 'name': 'Susan'}\n",
      "{'_id': ObjectId('6627fb3fb6c9524373867fc5'), 'name': 'Vicky'}\n",
      "{'_id': ObjectId('6627fb3fb6c9524373867fc6'), 'name': 'Ben'}\n",
      "{'_id': ObjectId('6627fb3fb6c9524373867fc7'), 'name': 'William'}\n",
      "{'_id': ObjectId('6627fb3fb6c9524373867fc8'), 'name': 'Chuck'}\n",
      "{'_id': ObjectId('6627fb3fb6c9524373867fc9'), 'name': 'Viola'}\n"
     ]
    }
   ],
   "source": [
    "import pymongo \n",
    "\n",
    "myclient  = pymongo.MongoClient(\"mongodb://localhost:27017/\")\n",
    "mydb =  myclient[\"mydatabase\"]\n",
    "\n",
    "mycol = mydb[\"customers\"]\n",
    "\n",
    "# excluding address\n",
    "for x in mycol.find({},{\"address\":0}):\n",
    "\n",
    "    print(x)"
   ]
  }
 ],
 "metadata": {
  "kernelspec": {
   "display_name": "Python 3",
   "language": "python",
   "name": "python3"
  },
  "language_info": {
   "codemirror_mode": {
    "name": "ipython",
    "version": 3
   },
   "file_extension": ".py",
   "mimetype": "text/x-python",
   "name": "python",
   "nbconvert_exporter": "python",
   "pygments_lexer": "ipython3",
   "version": "3.12.0"
  }
 },
 "nbformat": 4,
 "nbformat_minor": 2
}
